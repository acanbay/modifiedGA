{
 "cells": [
  {
   "cell_type": "markdown",
   "id": "ea7c9a9b-4398-4dc6-88ca-13eed1528e06",
   "metadata": {},
   "source": [
    "# ModifiedGA\n",
    "\n",
    "---\n",
    "\n",
    "```python\n",
    "mGA = modifiedGA.algorithm( popSize, nGen, nVar, mins, maxs, problem, optimType, info )\n",
    "results, values = mGA.optimize()\n",
    "mGA.saveResults( name, graph, xlabel, ylabel, title )\n",
    "```\n",
    "\n",
    "<br>"
   ]
  },
  {
   "cell_type": "code",
   "execution_count": 1,
   "id": "cfc9ef87-725a-4250-9759-765e88eea21f",
   "metadata": {},
   "outputs": [],
   "source": [
    "import modifiedGA"
   ]
  },
  {
   "cell_type": "markdown",
   "id": "fa698d68-b9e8-4247-a076-640ef4c54e25",
   "metadata": {},
   "source": [
    "<br>\n",
    "\n",
    "### Example 1: Minimization\n",
    "\n",
    "<br>\n",
    "\n",
    "$f(x)=(x+5)^2 +5x$\n",
    "\n",
    "<br>\n",
    "\n",
    "[WolframAlpha result](https://www.wolframalpha.com/input?i=minimize+%28x%2B5%29**2%2B5*x)\n",
    "\n",
    "Minimum $f(x)$ is $-31.25$ where $x=-7.5$\n",
    "\n",
    "<br>"
   ]
  },
  {
   "cell_type": "code",
   "execution_count": 2,
   "id": "e6645e38-38a9-483f-b66d-96b2126bc71a",
   "metadata": {},
   "outputs": [
    {
     "name": "stdout",
     "output_type": "stream",
     "text": [
      "1. Generation:  Result=-31.249996676093595,  Values=[-7.501823158360306]\n",
      "2. Generation:  Result=-31.249996676093595,  Values=[-7.501823158360306]\n",
      "3. Generation:  Result=-31.249998268162084,  Values=[-7.498684006870432]\n",
      "4. Generation:  Result=-31.249999935695858,  Values=[-7.500253582615369]\n",
      "5. Generation:  Result=-31.249999935695858,  Values=[-7.500253582615369]\n",
      "6. Generation:  Result=-31.249999935695858,  Values=[-7.500253582615369]\n",
      "7. Generation:  Result=-31.24999996228217,  Values=[-7.500194210791715]\n",
      "8. Generation:  Result=-31.249999998482718,  Values=[-7.499961047751061]\n",
      "9. Generation:  Result=-31.249999998482718,  Values=[-7.499961047751061]\n",
      "10. Generation:  Result=-31.249999999730704,  Values=[-7.500016410095558]\n",
      "\n",
      "Result = -31.249999999730704\n",
      "Values = [-7.500016410095558]\n",
      "\n",
      "Calculation time: 00:00:00.01\n",
      "\n",
      "Minimum f(x) is -31.25 where x = -7.5\n"
     ]
    }
   ],
   "source": [
    "def problem(x):\n",
    "    return (x[0]+5)**2 +5*x[0]\n",
    "\n",
    "mGA = modifiedGA.algorithm( popSize=100,\n",
    "                            nGen = 10,\n",
    "                            nVar = 1,\n",
    "                            mins = -10,\n",
    "                            maxs = 10,\n",
    "                            problem = problem,\n",
    "                            info = True )\n",
    "\n",
    "result, variables = mGA.optimize()\n",
    "\n",
    "print(f'Minimum f(x) is {result:.2f} where x = {variables[0]:.1f}')"
   ]
  },
  {
   "cell_type": "markdown",
   "id": "bb13d4e6-8b66-4c2d-9838-a632903d374d",
   "metadata": {},
   "source": [
    "<br>\n",
    "\n",
    "### Example 2: Maximization\n",
    "\n",
    "<br>\n",
    "\n",
    "$f(x)=sin(x)\\cdot (x-5)+cos(x)\\cdot x\\;,\\qquad -15<x<5$\n",
    "\n",
    "<br>\n",
    "\n",
    "[WolframAlpha result](https://www.wolframalpha.com/input?i=minimize+sin%28x%29*%28x-5%29+%2Bcos%28x%29*x%2C+-15%3Cx%3C5)\n",
    "\n",
    "Maximum $f(x)$ is $24.7307$ where $x=-14.8363$\n",
    "\n",
    "<br>"
   ]
  },
  {
   "cell_type": "code",
   "execution_count": 3,
   "id": "d5b2330b-21e2-475d-bb49-48c645f20d9e",
   "metadata": {},
   "outputs": [
    {
     "name": "stdout",
     "output_type": "stream",
     "text": [
      "Minimum f(x) is 24.7301 where x = -14.8294\n"
     ]
    }
   ],
   "source": [
    "from math import *\n",
    "\n",
    "def problem(x):\n",
    "    return sin(x[0])*(x[0]-5) +cos(x[0])*x[0]\n",
    "\n",
    "mGA = modifiedGA.algorithm( popSize=100,\n",
    "                            nGen = 100,\n",
    "                            nVar = 1,\n",
    "                            mins = [-15],\n",
    "                            maxs = [5],\n",
    "                            problem = problem,\n",
    "                            optimType = 'maximum',\n",
    "                            info = False )\n",
    "\n",
    "result, variables = mGA.optimize()\n",
    "\n",
    "print(f'Minimum f(x) is {result:.4f} where x = {variables[0]:.4f}')"
   ]
  },
  {
   "cell_type": "markdown",
   "id": "d6f5c28a-18e8-4d00-a4d5-6495593e6da7",
   "metadata": {},
   "source": [
    "<br>\n",
    "\n",
    "### Example 3:\n",
    "\n",
    "<br>\n",
    "\n",
    "$f(x)=sin(x)^2sin(y)+cos(x)\\;,\\qquad 0<x<3\\quad and \\quad -3<y<3$\n",
    "\n",
    "<br>\n",
    "\n",
    "[WolframAlpha result](https://www.wolframalpha.com/input?i=minimize+sin%28x%29**2+*+sin%28y%29+%2Bcos%28x%29%2C+0%3Cx%3C3%2C+-3%3Cy%3C3)\n",
    "\n",
    "Minimum $f(x)$ is $-1.25$ where $x=2.0944$ and $y=-1.5708$\n",
    "\n",
    "<br>"
   ]
  },
  {
   "cell_type": "code",
   "execution_count": 4,
   "id": "1e18f1f4-63d9-4e03-8791-5cbfbcac2973",
   "metadata": {},
   "outputs": [
    {
     "name": "stdout",
     "output_type": "stream",
     "text": [
      "1. Generation:  Result=-1.181482607411157,  Values=[2.3825366468319276, -1.8448258426837123]\n",
      "2. Generation:  Result=-1.2439834000281693,  Values=[2.139147376260839, -1.457496857261514]\n",
      "3. Generation:  Result=-1.2491047952727792,  Values=[2.0743734759533847, -1.5315371100643753]\n",
      "4. Generation:  Result=-1.2495688326738916,  Values=[2.106760426107112, -1.6000978222154896]\n",
      "5. Generation:  Result=-1.2499796478151464,  Values=[2.0905669510302483, -1.5658174661399324]\n",
      "6. Generation:  Result=-1.2499862886832864,  Values=[2.09866368856868, -1.571257718337335]\n",
      "7. Generation:  Result=-1.2499951852150524,  Values=[2.0955285259645238, -1.5675892581493909]\n",
      "8. Generation:  Result=-1.249999958658959,  Values=[2.0946153197994644, -1.5706811440233817]\n",
      "9. Generation:  Result=-1.2499999865351128,  Values=[2.094288715657921, -1.5706811440233817]\n",
      "10. Generation:  Result=-1.2499999913655186,  Values=[2.0942962230713036, -1.57085522951301]\n",
      "11. Generation:  Result=-1.2499999986493897,  Values=[2.0944172212223284, -1.5707451093997127]\n",
      "12. Generation:  Result=-1.2499999998566556,  Values=[2.0944055843791114, -1.5708090747760437]\n",
      "13. Generation:  Result=-1.249999999968764,  Values=[2.0943956150473233, -1.57078722901524]\n",
      "14. Generation:  Result=-1.2499999999973632,  Values=[2.094394823116901, -1.5707989488751366]\n",
      "15. Generation:  Result=-1.2499999999997278,  Values=[2.0943956150473233, -1.5707967737560442]\n",
      "16. Generation:  Result=-1.2499999999999147,  Values=[2.094395219082112, -1.5707967737560442]\n",
      "17. Generation:  Result=-1.2499999999999853,  Values=[2.094395240373076, -1.5707962966372824]\n",
      "18. Generation:  Result=-1.249999999999986,  Values=[2.0943951396570646, -1.5707961409375923]\n",
      "19. Generation:  Result=-1.249999999999988,  Values=[2.094395219082112, -1.570796393776265]\n",
      "20. Generation:  Result=-1.2499999999999982,  Values=[2.094395057317891, -1.5707963380671277]\n",
      "\n",
      "Result = -1.2499999999999982\n",
      "Values = [2.094395057317891, -1.5707963380671277]\n",
      "\n",
      "Calculation time: 00:00:00.01\n",
      "\n",
      "Minimum f(x) is -1.25 where x = 2.0944 and y = -1.5708\n"
     ]
    }
   ],
   "source": [
    "def problem(x):\n",
    "    return sin(x[0])**2 * sin(x[1]) +cos(x[0])\n",
    "\n",
    "mGA = modifiedGA.algorithm( popSize=100,\n",
    "                            nGen = 20,\n",
    "                            nVar = 2,\n",
    "                            mins = [0, -3],\n",
    "                            maxs = [3, 3],\n",
    "                            problem = problem,\n",
    "                            info = True )\n",
    "\n",
    "result, variables = mGA.optimize()\n",
    "\n",
    "print(f'Minimum f(x) is {result:.2f} where x = {variables[0]:.4f} and y = {variables[1]:.4f}')"
   ]
  },
  {
   "cell_type": "markdown",
   "id": "182c68f1-aafb-4cdc-b2bb-1ed5affbdd54",
   "metadata": {},
   "source": [
    "<br>\n",
    "\n",
    "### Example 4:\n",
    "\n",
    "<br>\n",
    "\n",
    "$f(x)=(x-5)^2 + (y-3)^2 +(xy)^2 + x^2 y\\;,\\qquad -10<x<10\\quad and \\quad -10<y<10$\n",
    "\n",
    "<br>\n",
    "\n",
    "[WolframAlpha result](https://www.wolframalpha.com/input?i=minimize+%28x-5%29**2+%2B+%28y-3%29**2+%2B%28x*y%29**2+%2B+x**2*y%2C+-10%3Cx%3C10%2C+-10%3Cy%3C10)\n",
    "\n",
    "Minimum $f(x)$ is $3.64497$ where $x=6.61268$ and $y=-0.421748$\n",
    "\n",
    "<br>"
   ]
  },
  {
   "cell_type": "code",
   "execution_count": 5,
   "id": "54afdb7d-8ac7-4512-9082-0fc0d05b262f",
   "metadata": {},
   "outputs": [
    {
     "name": "stdout",
     "output_type": "stream",
     "text": [
      "Minimum f(x) is 3.64497 where x = 6.61268 and y = -0.421748\n"
     ]
    }
   ],
   "source": [
    "def problem(x):\n",
    "    return (x[0]-5)**2 + (x[1]-3)**2 +(x[0]*x[1])**2 + x[0]**2*x[1]\n",
    "\n",
    "mGA = modifiedGA.algorithm( popSize=100,\n",
    "                            nGen = 100,\n",
    "                            nVar = 2,\n",
    "                            mins = [-10, -10],\n",
    "                            maxs = [10, 10],\n",
    "                            problem = problem,\n",
    "                            info=False )\n",
    "\n",
    "result, variables = mGA.optimize()\n",
    "\n",
    "print(f'Minimum f(x) is {result:.5f} where x = {variables[0]:.5f} and y = {variables[1]:.6f}')"
   ]
  },
  {
   "cell_type": "markdown",
   "id": "968fb299-58fc-46d5-baee-4205eefe060b",
   "metadata": {},
   "source": [
    "<br>\n",
    "\n",
    "### Example 5:\n",
    "\n",
    "<br>\n",
    "\n",
    "$f(x)=sin(x)\\;sin(y)\\;sin(z)\\;,\\qquad -\\pi<x<-\\pi/2\\;,\\quad -\\pi<y<-\\pi/2 \\quad and \\quad -\\pi<z<-\\pi/2$\n",
    "\n",
    "<br>\n",
    "\n",
    "[WolframAlpha result](https://www.wolframalpha.com/input?i=minimize+sin%28x%29*sin%28y%29*sin%28z%29%2C+-pi%3Cx%3C-pi%2F2%2C+-pi%3Cz%3C-pi%2F2%2C+-pi%3Cz%3C-pi%2F2)\n",
    "\n",
    "Minimum $f(x)$ is $-1$ where $x=-1.5708$, $y=-1.5708$ and $z=-1.5708$\n",
    "\n",
    "<br>"
   ]
  },
  {
   "cell_type": "code",
   "execution_count": 6,
   "id": "e1343cd4-ae31-4271-9247-730ce544deae",
   "metadata": {},
   "outputs": [
    {
     "name": "stdout",
     "output_type": "stream",
     "text": [
      "Minimum f(x) is -1 where x = -1.5708, y = -1.5708 and z = -1.5708\n"
     ]
    }
   ],
   "source": [
    "from math import pi\n",
    "\n",
    "def problem(x):\n",
    "    return sin(x[0])*sin(x[1])*sin(x[2])\n",
    "\n",
    "mGA = modifiedGA.algorithm( popSize=100,\n",
    "                            nGen = 100,\n",
    "                            nVar = 3,\n",
    "                            mins = [-pi, -pi, -pi],\n",
    "                            maxs = [-pi/2, -pi/2, -pi/2],\n",
    "                            problem = problem,\n",
    "                            info = False )\n",
    "\n",
    "result, variables = mGA.optimize()\n",
    "\n",
    "print(f'Minimum f(x) is {result:.0f} where x = {variables[0]:.4f}, y = {variables[1]:.4f} and z = {variables[2]:.4f}')"
   ]
  },
  {
   "cell_type": "markdown",
   "id": "37909239-4ecb-4d12-94f0-bacdb8545835",
   "metadata": {},
   "source": [
    "<br>\n",
    "\n",
    "### Example 6: Saving results\n",
    "Save the results of the previous calculation\n",
    "\n",
    "<br>"
   ]
  },
  {
   "cell_type": "code",
   "execution_count": 7,
   "id": "6b5c62d0-8d3a-4ad8-af8f-4b193cfad96a",
   "metadata": {},
   "outputs": [
    {
     "data": {
      "image/png": "[encoded data removed]",
      "text/plain": [
       "<Figure size 640x480 with 1 Axes>"
      ]
     },
     "metadata": {},
     "output_type": "display_data"
    }
   ],
   "source": [
    "mGA.saveResults( 'result', True )"
   ]
  },
  {
   "cell_type": "code",
   "execution_count": null,
   "id": "87069f95-0a71-48ed-948e-90705e99516e",
   "metadata": {},
   "outputs": [],
   "source": []
  }
 ],
 "metadata": {
  "kernelspec": {
   "display_name": "Python 3 (ipykernel)",
   "language": "python",
   "name": "python3"
  },
  "language_info": {
   "codemirror_mode": {
    "name": "ipython",
    "version": 3
   },
   "file_extension": ".py",
   "mimetype": "text/x-python",
   "name": "python",
   "nbconvert_exporter": "python",
   "pygments_lexer": "ipython3",
   "version": "3.9.0"
  }
 },
 "nbformat": 4,
 "nbformat_minor": 5
}
